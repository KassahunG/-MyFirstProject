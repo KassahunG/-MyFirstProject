{
 "cells": [
  {
   "cell_type": "code",
   "execution_count": null,
   "metadata": {},
   "outputs": [],
   "source": [
    "for i in range(5):\n",
    "    print(i)"
   ]
  },
  {
   "cell_type": "code",
   "execution_count": null,
   "metadata": {},
   "outputs": [],
   "source": [
    "def greet_customer():\n",
    "    print(\"Welcome to the bank!\")"
   ]
  },
  {
   "cell_type": "code",
   "execution_count": null,
   "metadata": {},
   "outputs": [
    {
     "name": "stdout",
     "output_type": "stream",
     "text": [
      "Hello, Kassahun G!\n"
     ]
    }
   ],
   "source": [
    "name = input(\"Enter your name: \")\n",
    "print(f\"Hello, {name}!\")"
   ]
  },
  {
   "cell_type": "code",
   "execution_count": null,
   "metadata": {},
   "outputs": [],
   "source": [
    "try:\n",
    "    value = int(input(\"Enter a number: \"))\n",
    "    print(f\"The number is {value}\")\n",
    "except ValueError:\n",
    "    print(\"That's not a valid number!\")"
   ]
  },
  {
   "cell_type": "code",
   "execution_count": 3,
   "metadata": {},
   "outputs": [
    {
     "name": "stdout",
     "output_type": "stream",
     "text": [
      "Welcome, Kassahun!\n"
     ]
    }
   ],
   "source": [
    "account_holder = \"Kassahun\"\n",
    "account_message = f\"Welcome, {account_holder}!\"\n",
    "print(account_message) # Output: Welcome, Alice!"
   ]
  },
  {
   "cell_type": "code",
   "execution_count": 16,
   "metadata": {},
   "outputs": [
    {
     "name": "stdout",
     "output_type": "stream",
     "text": [
      "Thank you John Doe for your transaction of $200.50.\n"
     ]
    }
   ],
   "source": [
    "# Formatting a message to display a transaction receipt\n",
    "account_name = \"John Doe\"\n",
    "transaction = 200.50\n",
    "receipt = f\"Thank you {account_name} for your transaction of ${transaction:.2f}.\"\n",
    "print(receipt)"
   ]
  },
  {
   "cell_type": "code",
   "execution_count": 20,
   "metadata": {},
   "outputs": [
    {
     "name": "stdout",
     "output_type": "stream",
     "text": [
      "Interest after 2 years: 500.0\n"
     ]
    }
   ],
   "source": [
    "# Calculating simple interest\n",
    "principal = 5000 # Initial amount\n",
    "rate = 0.05 # 5% interest\n",
    "time = 2 # in years\n",
    "interest = principal * rate * time\n",
    "print(\"Interest after 2 years:\", interest) # Output: Interest after 2\n",
    "years: 500.0"
   ]
  },
  {
   "cell_type": "code",
   "execution_count": null,
   "metadata": {},
   "outputs": [],
   "source": [
    "#!/usr/bin/env python3\n",
    "# A simple Python program to demonstrate key components\n",
    "# Import necessary module\n",
    "import math\n",
    "# Function to calculate the area of a circle\n",
    "def calculate_area(radius):\n",
    "   return math.pi * radius ** 2\n",
    "# Main function to run the program\n",
    "def main():\n",
    "# Input: radius of the circle\n",
    "    radius = float(input(\"Enter the radius of the circle: \"))\n",
    "# Calculate area\n",
    "    area = calculate_area(radius)\n",
    "# Output the result\n",
    "    print(f\"The area of the circle with radius {radius} is:{area:.2f}\")\n",
    "# Ensure the script is run directly\n",
    "if __name__ == \"__main__\":\n",
    "    main() "
   ]
  },
  {
   "cell_type": "code",
   "execution_count": null,
   "metadata": {},
   "outputs": [
    {
     "name": "stdout",
     "output_type": "stream",
     "text": [
      "Interest after 2 years: 500.0\n"
     ]
    }
   ],
   "source": [
    "# Calculating simple interest\n",
    "principal = float(input(\"Enter the Principal of the Loan:\"))\n",
    "rate = float(input(\"Enter the Interest rate: \"))\n",
    "time = int(input(\"Enter time duration in years: \"))\n",
    "interest = principal * rate * time\n",
    "print(\"Interest after 2 years:\", interest)"
   ]
  },
  {
   "cell_type": "code",
   "execution_count": null,
   "metadata": {},
   "outputs": [],
   "source": [
    "# Check if the user qualifies for a loan\n",
    "deposit = 1000\n",
    "withdraw = int(input(\"Enter amount to withdraw:\"))\n",
    "sufficient_funds = withdraw <=deposit\n",
    "print(\"Qualifies for withdraw:\", sufficient_funds) \n",
    "\n"
   ]
  }
 ],
 "metadata": {
  "kernelspec": {
   "display_name": "base",
   "language": "python",
   "name": "python3"
  },
  "language_info": {
   "codemirror_mode": {
    "name": "ipython",
    "version": 3
   },
   "file_extension": ".py",
   "mimetype": "text/x-python",
   "name": "python",
   "nbconvert_exporter": "python",
   "pygments_lexer": "ipython3",
   "version": "3.12.4"
  }
 },
 "nbformat": 4,
 "nbformat_minor": 2
}
